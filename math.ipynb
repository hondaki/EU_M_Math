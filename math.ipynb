{
  "nbformat": 4,
  "nbformat_minor": 0,
  "metadata": {
    "colab": {
      "name": "math.ipynb",
      "provenance": [],
      "authorship_tag": "ABX9TyPVDscBR+R/XvRXe2MqpvIq",
      "include_colab_link": true
    },
    "kernelspec": {
      "name": "python3",
      "display_name": "Python 3"
    },
    "language_info": {
      "name": "python"
    }
  },
  "cells": [
    {
      "cell_type": "markdown",
      "metadata": {
        "id": "view-in-github",
        "colab_type": "text"
      },
      "source": [
        "<a href=\"https://colab.research.google.com/github/hondaki/EU_M_Math/blob/main/math.ipynb\" target=\"_parent\"><img src=\"https://colab.research.google.com/assets/colab-badge.svg\" alt=\"Open In Colab\"/></a>"
      ]
    },
    {
      "cell_type": "code",
      "execution_count": 16,
      "metadata": {
        "colab": {
          "base_uri": "https://localhost:8080/"
        },
        "id": "ow6Oq57LExLx",
        "outputId": "832f8d51-3001-46fa-c770-1676bf4c1892"
      },
      "outputs": [
        {
          "output_type": "stream",
          "name": "stdout",
          "text": [
            "[0.5488135  0.71518937 0.60276338 0.54488318 0.4236548  0.64589411\n",
            " 0.43758721 0.891773   0.96366276 0.38344152] [0.79172504 0.52889492 0.56804456 0.92559664 0.07103606 0.0871293\n",
            " 0.0202184  0.83261985 0.77815675 0.87001215]\n",
            "0 0.5488135039273248 0.7917250380826646 0.2957807566593795\n",
            "1 0.7151893663724195 0.5288949197529045 0.217120657209972\n",
            "2 0.6027633760716439 0.5680445610939323 0.12324923430231928\n",
            "3 0.5448831829968969 0.925596638292661 0.42795677193140325\n",
            "4 0.4236547993389047 0.07103605819788694 0.43570477737843266\n",
            "5 0.6458941130666561 0.08712929970154071 0.43788960639920016\n",
            "6 0.4375872112626925 0.02021839744032572 0.4838240820305424\n",
            "7 0.8917730007820798 0.832619845547938 0.5139280550759314\n",
            "8 0.9636627605010293 0.7781567509498505 0.540698005890915\n",
            "9 0.3834415188257777 0.8700121482468192 0.3879366821839198\n"
          ]
        }
      ],
      "source": [
        "import numpy as np\n",
        "#from numpy.random import random\n",
        "import scipy as sp\n",
        "import pandas as pd\n",
        "from pandas import Series, DataFrame\n",
        "import math\n",
        "\n",
        "import matplotlib.pyplot as plt\n",
        "import matplotlib as matplotlib\n",
        "import seaborn as sns\n",
        "%matplotlib inline\n",
        "'''\n",
        "%precision 3\n",
        "a=12.5\n",
        "b=6.1\n",
        "print(a, b, a+b)\n",
        "'''\n",
        "\n",
        "\n",
        "ND=10\n",
        "np.random.seed(0)\n",
        "\n",
        "x= np.random.rand(ND)\n",
        "y= np.random.rand(ND)\n",
        "print(x, y)\n",
        "for i in range(ND):\n",
        "  print(i,x[i], y[i], math.hypot(x[i]-0.5,y[i]-0.5))\n"
      ]
    },
    {
      "cell_type": "code",
      "source": [
        ""
      ],
      "metadata": {
        "id": "fmu0jsi1WM1R"
      },
      "execution_count": null,
      "outputs": []
    }
  ]
}