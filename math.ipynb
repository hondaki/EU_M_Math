{
  "nbformat": 4,
  "nbformat_minor": 0,
  "metadata": {
    "colab": {
      "name": "math.ipynb",
      "provenance": [],
      "authorship_tag": "ABX9TyOp1yxmy5rv46eoYd39OHts",
      "include_colab_link": true
    },
    "kernelspec": {
      "name": "python3",
      "display_name": "Python 3"
    },
    "language_info": {
      "name": "python"
    }
  },
  "cells": [
    {
      "cell_type": "markdown",
      "metadata": {
        "id": "view-in-github",
        "colab_type": "text"
      },
      "source": [
        "<a href=\"https://colab.research.google.com/github/hondaki/EU_M_Math/blob/main/math.ipynb\" target=\"_parent\"><img src=\"https://colab.research.google.com/assets/colab-badge.svg\" alt=\"Open In Colab\"/></a>"
      ]
    },
    {
      "cell_type": "code",
      "execution_count": 13,
      "metadata": {
        "colab": {
          "base_uri": "https://localhost:8080/"
        },
        "id": "ow6Oq57LExLx",
        "outputId": "0679ed4a-1514-45d6-b17e-5947b760b2ae"
      },
      "outputs": [
        {
          "output_type": "stream",
          "name": "stdout",
          "text": [
            "1000000 785422 214578 3.141688\n"
          ]
        }
      ],
      "source": [
        "import numpy as np\n",
        "#from numpy.random import random\n",
        "import scipy as sp\n",
        "import pandas as pd\n",
        "from pandas import Series, DataFrame\n",
        "import math\n",
        "\n",
        "import matplotlib.pyplot as plt\n",
        "import matplotlib as matplotlib\n",
        "import seaborn as sns\n",
        "%matplotlib inline\n",
        "'''\n",
        "%precision 3\n",
        "a=12.5\n",
        "b=6.1\n",
        "print(a, b, a+b)\n",
        "'''\n",
        "\n",
        "\n",
        "ND=1000000\n",
        "np.random.seed(0)\n",
        "\n",
        "x= np.random.rand(ND)\n",
        "y= np.random.rand(ND)\n",
        "r = 1./2.\n",
        "\n",
        "in_count = 0\n",
        "out_count = 0\n",
        "for i in range(ND):\n",
        "  if  math.hypot(x[i]-r, y[i]-r ) < r:\n",
        "    in_count += 1\n",
        "  else:\n",
        "    out_count += 1\n",
        "\n",
        "print( ND, in_count, out_count, float(in_count)/float(ND)/r/r)"
      ]
    }
  ]
}